{
 "cells": [
  {
   "cell_type": "code",
   "execution_count": 1,
   "metadata": {
    "collapsed": false,
    "deletable": true,
    "editable": true
   },
   "outputs": [],
   "source": [
    "%matplotlib inline\n",
    "\n",
    "import matplotlib.pyplot as plt\n",
    "import os\n",
    "import glob\n",
    "import wave\n",
    "import core as co\n",
    "import pydub\n",
    "import librosa\n",
    "import itertools\n",
    "import numpy as np\n",
    "import contextlib\n",
    "import tensorflow as tf\n",
    "import sklearn.metrics as metrics"
   ]
  },
  {
   "cell_type": "code",
   "execution_count": 2,
   "metadata": {
    "collapsed": true,
    "deletable": true,
    "editable": true
   },
   "outputs": [],
   "source": [
    "####https://github.com/aqibsaeed/Urban-Sound-Classification/blob/master/Urban%20Sound%20Classification%20using%20CNN.ipynb\n",
    "####https://aqibsaeed.github.io/2016-09-03-urban-sound-classification-part-1/"
   ]
  },
  {
   "cell_type": "code",
   "execution_count": 3,
   "metadata": {
    "collapsed": true,
    "deletable": true,
    "editable": true
   },
   "outputs": [],
   "source": [
    "paths = ['BD15C', 'BD6B', 'BD6A', 'BD15A'] # 'BD15L'"
   ]
  },
  {
   "cell_type": "code",
   "execution_count": 4,
   "metadata": {
    "collapsed": true,
    "deletable": true,
    "editable": true
   },
   "outputs": [],
   "source": [
    "def windows(data, window_size):\n",
    "    start = 0\n",
    "    while start < len(data):\n",
    "        yield start, start + window_size\n",
    "        start += (window_size / 2)\n",
    "\n",
    "\n",
    "def extract_features(parent_dir,sub_dirs,file_ext=\"*.wav\",bands = 60, frames = 41, label = 1):\n",
    "    window_size = 512 * (frames - 1)\n",
    "    log_specgrams = []\n",
    "    labels = []\n",
    "    for l, sub_dir in enumerate(sub_dirs):\n",
    "        for fn in glob.glob(os.path.join(parent_dir, sub_dir, file_ext)):\n",
    "            sound_clip,s = librosa.load(fn)\n",
    "            for (start,end) in windows(sound_clip,window_size):\n",
    "                if(len(sound_clip[start:end]) == window_size):\n",
    "                    signal = sound_clip[start:end]\n",
    "                    melspec = librosa.feature.melspectrogram(signal, n_mels = bands)\n",
    "                    logspec = librosa.logamplitude(melspec)\n",
    "#                     logspec = logspec.T.flatten()[:, np.newaxis].T\n",
    "                    log_specgrams.append(logspec)\n",
    "                    labels.append(l)\n",
    "            \n",
    "    log_specgrams = np.asarray(log_specgrams).reshape(len(log_specgrams),bands,frames,1)\n",
    "    features = np.concatenate((log_specgrams, np.zeros(np.shape(log_specgrams))), axis = 3)\n",
    "    for i in range(len(features)):\n",
    "        features[i, :, :, 1] = librosa.feature.delta(features[i, :, :, 0])\n",
    "    \n",
    "    return np.array(features), np.array(labels)"
   ]
  },
  {
   "cell_type": "code",
   "execution_count": 5,
   "metadata": {
    "collapsed": false,
    "deletable": true,
    "editable": true
   },
   "outputs": [],
   "source": [
    "parent_dir = '.'\n",
    "\n",
    "if os.path.exists('train_features.npy') and os.path.exists('train_labels.npy'):\n",
    "    train_features = np.load('train_features.npy')\n",
    "    train_labels = np.load('train_labels.npy')\n",
    "else:\n",
    "    train_features,train_labels = extract_features(parent_dir,paths,frames=41)\n",
    "    train_labels = co.one_hot_encode(train_labels)\n",
    "    np.save('train_features.npy', train_features)\n",
    "    np.save('train_labels.npy', train_labels)"
   ]
  },
  {
   "cell_type": "code",
   "execution_count": 6,
   "metadata": {
    "collapsed": false,
    "deletable": true,
    "editable": true
   },
   "outputs": [],
   "source": [
    "if os.path.exists('test_features.npy') and os.path.exists('test_labels.npy'):\n",
    "    test_features = np.load('test_features.npy')\n",
    "    test_labels = np.load('test_labels.npy')\n",
    "else:\n",
    "    test_features = None\n",
    "    test_labels = []\n",
    "    for l, path in enumerate(paths):\n",
    "        subdir = os.path.join(parent_dir, path)\n",
    "        f,_ = extract_features(path,['test'],frames=41)\n",
    "        test_features = f if test_features is None else np.append(test_features, f, axis=0)\n",
    "        a = [l] * f.shape[0]\n",
    "        test_labels.append(a)\n",
    "    test_labels = co.one_hot_encode(list(itertools.chain(*test_labels)))\n",
    "    np.save('test_features.npy', test_features)\n",
    "    np.save('test_labels.npy', test_labels)"
   ]
  },
  {
   "cell_type": "code",
   "execution_count": 7,
   "metadata": {
    "collapsed": false,
    "deletable": true,
    "editable": true
   },
   "outputs": [],
   "source": [
    "train_x = train_features\n",
    "train_y = train_labels\n",
    "test_x = test_features\n",
    "test_y = test_labels"
   ]
  },
  {
   "cell_type": "code",
   "execution_count": 8,
   "metadata": {
    "collapsed": false,
    "deletable": true,
    "editable": true
   },
   "outputs": [
    {
     "name": "stdout",
     "output_type": "stream",
     "text": [
      "(774, 60, 41, 2)\n",
      "(774, 4)\n",
      "(130, 60, 41, 2)\n",
      "(130, 4)\n"
     ]
    }
   ],
   "source": [
    "print train_x.shape\n",
    "print train_y.shape\n",
    "print test_x.shape\n",
    "print test_y.shape"
   ]
  },
  {
   "cell_type": "code",
   "execution_count": 9,
   "metadata": {
    "collapsed": true,
    "deletable": true,
    "editable": true
   },
   "outputs": [],
   "source": [
    "frames = 41\n",
    "bands = 60\n",
    "\n",
    "num_labels = 4\n",
    "num_channels = 2\n",
    "\n",
    "batch_size = 50\n",
    "kernel_size = 30\n",
    "depth = 32\n",
    "num_hidden = 200\n",
    "\n",
    "starter_learning_rate = 1e-5\n",
    "training_iterations = 4000\n",
    "step = 300\n",
    "decay = 0.75"
   ]
  },
  {
   "cell_type": "code",
   "execution_count": 10,
   "metadata": {
    "collapsed": false,
    "deletable": true,
    "editable": true
   },
   "outputs": [],
   "source": [
    "X = tf.placeholder(tf.float32, shape=[None, bands, frames, num_channels])\n",
    "Y = tf.placeholder(tf.float32, shape=[None, num_labels])\n",
    "phase_train = tf.placeholder(tf.bool, name='phase_train')\n",
    "global_step = tf.Variable(0, trainable=False)\n",
    "\n",
    "conv1 = co.conv_layer(X, num_channels, depth, phase_train, 'conv1', kernel_size, kernel_size)\n",
    "conv2 = co.conv_layer(conv1, depth, depth*2, phase_train, 'conv2', kernel_size, kernel_size)\n",
    "max_pool_1 = co.max_pool_layer(conv2, name='max_pool_1')\n",
    "shape = max_pool_1.get_shape().as_list()\n",
    "max_pool_1_flat = tf.reshape(max_pool_1, [-1, shape[1] * shape[2] * shape[3]])\n",
    "\n",
    "fc1 = co.fc_layer(max_pool_1_flat, shape[1] * shape[2] * shape[3], num_hidden, phase_train, 'fc1') # fc_layer fc1\n",
    "y_ = co.fc_layer(tf.nn.relu(fc1), num_hidden, num_labels, phase_train, 'fc2')"
   ]
  },
  {
   "cell_type": "code",
   "execution_count": 11,
   "metadata": {
    "collapsed": false,
    "deletable": true,
    "editable": true
   },
   "outputs": [],
   "source": [
    "learning_rate = tf.train.exponential_decay(starter_learning_rate,global_step,step,decay,staircase=True)\n",
    "\n",
    "with tf.name_scope('xent'):\n",
    "    cross_entropy = tf.reduce_mean(tf.nn.softmax_cross_entropy_with_logits(labels=Y, logits=y_))\n",
    "with tf.name_scope('train'):\n",
    "    optimizer = tf.train.AdamOptimizer(learning_rate=learning_rate).minimize(cross_entropy, global_step=global_step)\n",
    "with tf.name_scope('accuracy'):\n",
    "    correct_prediction = tf.equal(tf.argmax(y_,1), tf.argmax(Y,1))\n",
    "    accuracy = tf.reduce_mean(tf.cast(correct_prediction, tf.float32))"
   ]
  },
  {
   "cell_type": "code",
   "execution_count": 12,
   "metadata": {
    "collapsed": false,
    "deletable": true,
    "editable": true
   },
   "outputs": [
    {
     "name": "stdout",
     "output_type": "stream",
     "text": [
      "('Train cost', 2.0109541, 'Accuracy', 0.0, 'Test cost', 3.1406016, 'Accuracy', 0.41538462)\n",
      "('Train cost', 0.47446662, 'Accuracy', 1.0, 'Test cost', 2.7343104, 'Accuracy', 0.11538462)\n",
      "('Train cost', 1.4068824, 'Accuracy', 0.19999999, 'Test cost', 2.8085179, 'Accuracy', 0.1)\n",
      "('Train cost', 0.42220372, 'Accuracy', 0.98000002, 'Test cost', 2.8569844, 'Accuracy', 0.16923077)\n",
      "('Train cost', 0.15039933, 'Accuracy', 1.0, 'Test cost', 2.9226115, 'Accuracy', 0.18461539)\n",
      "('Train cost', 0.17147836, 'Accuracy', 1.0, 'Test cost', 2.3701944, 'Accuracy', 0.2)\n",
      "('Train cost', 0.0087991599, 'Accuracy', 1.0, 'Test cost', 3.4074042, 'Accuracy', 0.31538463)\n",
      "('Train cost', 0.19124682, 'Accuracy', 0.98000002, 'Test cost', 2.0501647, 'Accuracy', 0.1923077)\n",
      "('Train cost', 0.017576519, 'Accuracy', 1.0, 'Test cost', 2.6256807, 'Accuracy', 0.40000001)\n",
      "('Train cost', 0.02321863, 'Accuracy', 1.0, 'Test cost', 1.9232394, 'Accuracy', 0.2)\n",
      "('Train cost', 0.015711702, 'Accuracy', 1.0, 'Test cost', 2.5535917, 'Accuracy', 0.44615385)\n",
      "('Train cost', 0.037488963, 'Accuracy', 1.0, 'Test cost', 1.588017, 'Accuracy', 0.30000001)\n",
      "('Train cost', 0.12758645, 'Accuracy', 0.94, 'Test cost', 1.9425939, 'Accuracy', 0.54615384)\n",
      "('Train cost', 0.044656385, 'Accuracy', 1.0, 'Test cost', 1.7511941, 'Accuracy', 0.55384618)\n",
      "('Train cost', 0.037803102, 'Accuracy', 1.0, 'Test cost', 1.6007965, 'Accuracy', 0.54615384)\n",
      "('Train cost', 0.019650623, 'Accuracy', 1.0, 'Test cost', 2.5097933, 'Accuracy', 0.50000006)\n",
      "('Train cost', 0.011355216, 'Accuracy', 1.0, 'Test cost', 1.5197278, 'Accuracy', 0.42307693)\n",
      "('Train cost', 0.0043256413, 'Accuracy', 1.0, 'Test cost', 2.7541814, 'Accuracy', 0.44615385)\n",
      "('Train cost', 0.056925327, 'Accuracy', 1.0, 'Test cost', 1.6011834, 'Accuracy', 0.31538463)\n",
      "('Train cost', 0.0095450282, 'Accuracy', 1.0, 'Test cost', 2.0405543, 'Accuracy', 0.56153846)\n",
      "('Train cost', 0.014695923, 'Accuracy', 1.0, 'Test cost', 1.0215405, 'Accuracy', 0.53846157)\n",
      "('Train cost', 0.0094727818, 'Accuracy', 1.0, 'Test cost', 2.0606287, 'Accuracy', 0.53846157)\n",
      "('Train cost', 0.0090320352, 'Accuracy', 1.0, 'Test cost', 1.0931369, 'Accuracy', 0.56923079)\n",
      "('Train cost', 0.013676823, 'Accuracy', 1.0, 'Test cost', 1.1507747, 'Accuracy', 0.55384618)\n",
      "('Train cost', 0.026974142, 'Accuracy', 1.0, 'Test cost', 1.4718444, 'Accuracy', 0.56923079)\n",
      "('Train cost', 0.018387966, 'Accuracy', 1.0, 'Test cost', 0.79512089, 'Accuracy', 0.63076925)\n",
      "('Train cost', 0.004174415, 'Accuracy', 1.0, 'Test cost', 1.9033104, 'Accuracy', 0.56153846)\n",
      "('Train cost', 0.0086769182, 'Accuracy', 1.0, 'Test cost', 1.009598, 'Accuracy', 0.57692307)\n",
      "('Train cost', 0.0035159481, 'Accuracy', 1.0, 'Test cost', 1.9330165, 'Accuracy', 0.54615384)\n",
      "('Train cost', 0.028925698, 'Accuracy', 1.0, 'Test cost', 1.0064205, 'Accuracy', 0.47692308)\n",
      "('Train cost', 0.013024187, 'Accuracy', 1.0, 'Test cost', 1.2759417, 'Accuracy', 0.56923079)\n",
      "('Train cost', 0.0057644565, 'Accuracy', 1.0, 'Test cost', 0.52552861, 'Accuracy', 0.86923081)\n",
      "('Train cost', 0.0061880415, 'Accuracy', 1.0, 'Test cost', 1.3330036, 'Accuracy', 0.56923079)\n",
      "('Train cost', 0.010707121, 'Accuracy', 1.0, 'Test cost', 0.72785038, 'Accuracy', 0.66153848)\n",
      "('Train cost', 0.0072638369, 'Accuracy', 1.0, 'Test cost', 0.73566937, 'Accuracy', 0.63076925)\n",
      "('Train cost', 0.026740123, 'Accuracy', 1.0, 'Test cost', 0.93912238, 'Accuracy', 0.57692307)\n",
      "('Train cost', 0.0081251748, 'Accuracy', 1.0, 'Test cost', 0.51300585, 'Accuracy', 0.81538463)\n",
      "('Train cost', 0.0021999646, 'Accuracy', 1.0, 'Test cost', 1.5373999, 'Accuracy', 0.56153846)\n",
      "('Train cost', 0.0057189632, 'Accuracy', 1.0, 'Test cost', 0.54118562, 'Accuracy', 0.80000001)\n",
      "('Train cost', 0.0035016506, 'Accuracy', 1.0, 'Test cost', 1.2646084, 'Accuracy', 0.55384618)\n",
      "('Train cost', 0.0088584889, 'Accuracy', 1.0, 'Test cost', 0.54485089, 'Accuracy', 0.83846152)\n",
      "('Train cost', 0.0088308016, 'Accuracy', 1.0, 'Test cost', 0.8511765, 'Accuracy', 0.59230769)\n",
      "('Train cost', 0.0027572648, 'Accuracy', 1.0, 'Test cost', 0.45005071, 'Accuracy', 0.90000004)\n",
      "('Train cost', 0.0058873333, 'Accuracy', 1.0, 'Test cost', 0.79105544, 'Accuracy', 0.60000002)\n",
      "('Train cost', 0.014537621, 'Accuracy', 1.0, 'Test cost', 0.40605438, 'Accuracy', 0.87692308)\n",
      "('Train cost', 0.009925995, 'Accuracy', 1.0, 'Test cost', 0.44827631, 'Accuracy', 0.83076924)\n",
      "('Train cost', 0.017470447, 'Accuracy', 1.0, 'Test cost', 0.81192309, 'Accuracy', 0.59230769)\n",
      "('Train cost', 0.0051787519, 'Accuracy', 1.0, 'Test cost', 0.38010713, 'Accuracy', 0.8923077)\n",
      "('Train cost', 0.0027215229, 'Accuracy', 1.0, 'Test cost', 1.2270304, 'Accuracy', 0.55384618)\n",
      "('Train cost', 0.0068400009, 'Accuracy', 1.0, 'Test cost', 0.33977339, 'Accuracy', 0.92307693)\n",
      "('Train cost', 0.0032553594, 'Accuracy', 1.0, 'Test cost', 0.85521078, 'Accuracy', 0.60000002)\n",
      "('Train cost', 0.0072607705, 'Accuracy', 1.0, 'Test cost', 0.4107103, 'Accuracy', 0.90000004)\n",
      "('Train cost', 0.0043710982, 'Accuracy', 1.0, 'Test cost', 0.76661414, 'Accuracy', 0.60769236)\n",
      "('Train cost', 0.0020786431, 'Accuracy', 1.0, 'Test cost', 0.41768396, 'Accuracy', 0.8923077)\n",
      "('Train cost', 0.013100264, 'Accuracy', 1.0, 'Test cost', 0.48985302, 'Accuracy', 0.81538463)\n",
      "('Train cost', 0.01142728, 'Accuracy', 1.0, 'Test cost', 0.39950454, 'Accuracy', 0.86153847)\n",
      "('Train cost', 0.0080642095, 'Accuracy', 1.0, 'Test cost', 0.32412213, 'Accuracy', 0.93076921)\n",
      "('Train cost', 0.015858881, 'Accuracy', 1.0, 'Test cost', 0.68171507, 'Accuracy', 0.62307692)\n",
      "('Train cost', 0.0040190769, 'Accuracy', 1.0, 'Test cost', 0.27615312, 'Accuracy', 0.93846154)\n",
      "('Train cost', 0.0047821761, 'Accuracy', 1.0, 'Test cost', 1.4215428, 'Accuracy', 0.51538461)\n",
      "('Train cost', 0.010103467, 'Accuracy', 1.0, 'Test cost', 0.308521, 'Accuracy', 0.93846154)\n",
      "('Train cost', 0.0016878792, 'Accuracy', 1.0, 'Test cost', 0.68783623, 'Accuracy', 0.6538462)\n",
      "('Train cost', 0.0085004605, 'Accuracy', 1.0, 'Test cost', 0.32192293, 'Accuracy', 0.93846154)\n",
      "('Train cost', 0.0030574242, 'Accuracy', 1.0, 'Test cost', 0.62294072, 'Accuracy', 0.73076922)\n",
      "('Train cost', 0.0045575351, 'Accuracy', 1.0, 'Test cost', 0.26794967, 'Accuracy', 0.93076926)\n",
      "('Train cost', 0.016575512, 'Accuracy', 1.0, 'Test cost', 0.36404201, 'Accuracy', 0.8923077)\n",
      "('Train cost', 0.0085872551, 'Accuracy', 1.0, 'Test cost', 0.41943163, 'Accuracy', 0.8230769)\n",
      "('Train cost', 0.007495014, 'Accuracy', 1.0, 'Test cost', 0.26253989, 'Accuracy', 0.93846154)\n",
      "('Train cost', 0.0084517077, 'Accuracy', 1.0, 'Test cost', 0.58504057, 'Accuracy', 0.74615383)\n",
      "('Train cost', 0.0042881062, 'Accuracy', 1.0, 'Test cost', 0.22548264, 'Accuracy', 0.93846154)\n",
      "('Train cost', 0.0038540324, 'Accuracy', 1.0, 'Test cost', 1.0823225, 'Accuracy', 0.56153846)\n",
      "('Train cost', 0.019136036, 'Accuracy', 1.0, 'Test cost', 0.28884953, 'Accuracy', 0.96153843)\n",
      "('Train cost', 0.004060742, 'Accuracy', 1.0, 'Test cost', 0.58999622, 'Accuracy', 0.71538466)\n",
      "('Train cost', 0.0054400638, 'Accuracy', 1.0, 'Test cost', 0.29854518, 'Accuracy', 0.95384616)\n",
      "('Train cost', 0.010109974, 'Accuracy', 1.0, 'Test cost', 0.58498955, 'Accuracy', 0.76153851)\n",
      "('Train cost', 0.0083816051, 'Accuracy', 1.0, 'Test cost', 0.26675946, 'Accuracy', 0.93846154)\n",
      "('Train cost', 0.0062910449, 'Accuracy', 1.0, 'Test cost', 0.33456242, 'Accuracy', 0.91538459)\n",
      "('Train cost', 0.010093445, 'Accuracy', 1.0, 'Test cost', 0.3754738, 'Accuracy', 0.86153847)\n",
      "('Train cost', 0.0080281477, 'Accuracy', 1.0, 'Test cost', 0.2420864, 'Accuracy', 0.93846154)\n",
      "('Train cost', 0.0074244179, 'Accuracy', 1.0, 'Test cost', 0.56893659, 'Accuracy', 0.76153851)\n",
      "('Test accuracy', 0.962)\n"
     ]
    }
   ],
   "source": [
    "cost_history = np.empty(shape=[1],dtype=float)\n",
    "with tf.Session() as session:\n",
    "    session.run(tf.global_variables_initializer())\n",
    "\n",
    "    for itr in range(training_iterations):    \n",
    "        offset = (itr * batch_size) % (train_y.shape[0] - batch_size)\n",
    "        batch_x = train_x[offset:(offset + batch_size), :, :, :]\n",
    "        batch_y = train_y[offset:(offset + batch_size), :]\n",
    "        \n",
    "        _, c, a = session.run([optimizer, cross_entropy, accuracy],feed_dict={X: batch_x, Y : batch_y, phase_train : True})\n",
    "        cost_history = np.append(cost_history,c)\n",
    "        if itr % 50 == 0:\n",
    "            _, tc, ta = session.run([optimizer, cross_entropy, accuracy],feed_dict={X: test_x, Y : test_y, phase_train : False})\n",
    "            print ('Train cost', c, 'Accuracy', a, 'Test cost', tc, 'Accuracy', ta)\n",
    "\n",
    "    y_pred = session.run(y_, feed_dict={X: test_x, Y: test_y, phase_train: False})\n",
    "    print('Test accuracy',round(session.run(accuracy, feed_dict={X: test_x, Y: test_y, phase_train: False}) , 3))\n",
    "    "
   ]
  },
  {
   "cell_type": "code",
   "execution_count": 13,
   "metadata": {
    "collapsed": false,
    "deletable": true,
    "editable": true
   },
   "outputs": [
    {
     "data": {
      "image/png": "[encoded data removed]",
      "text/plain": [
       "<matplotlib.figure.Figure at 0x7f94c4aa0710>"
      ]
     },
     "metadata": {},
     "output_type": "display_data"
    }
   ],
   "source": [
    "%matplotlib inline\n",
    "import matplotlib.pyplot as plt\n",
    "fig = plt.figure(figsize=(15,10))\n",
    "plt.plot(cost_history)\n",
    "# plt.axis([0,training_epochs,0,np.max(cost_history)])\n",
    "plt.show()"
   ]
  },
  {
   "cell_type": "code",
   "execution_count": 14,
   "metadata": {
    "collapsed": false,
    "deletable": true,
    "editable": true
   },
   "outputs": [],
   "source": [
    "y_test_class = np.argmax(test_y, axis=1)\n",
    "y_pred_class = np.argmax(y_pred, axis=1)\n",
    "conf_mat = metrics.confusion_matrix(y_test_class, y_pred_class)"
   ]
  },
  {
   "cell_type": "code",
   "execution_count": 15,
   "metadata": {
    "collapsed": false,
    "deletable": true,
    "editable": true
   },
   "outputs": [
    {
     "data": {
      "image/png": "[encoded data removed]",
      "text/plain": [
       "<matplotlib.figure.Figure at 0x7f945c0211d0>"
      ]
     },
     "metadata": {},
     "output_type": "display_data"
    },
    {
     "name": "stdout",
     "output_type": "stream",
     "text": [
      "ROC AUC Score:  0.94517307809\n"
     ]
    }
   ],
   "source": [
    "# Compute ROC curve and ROC area for each class\n",
    "n_classes = 4\n",
    "fpr = dict()\n",
    "tpr = dict()\n",
    "roc_auc = dict()\n",
    "\n",
    "for i in range(n_classes):\n",
    "    fpr[i], tpr[i], _ = metrics.roc_curve(test_y[:, i], y_pred[:, i])\n",
    "    roc_auc[i] = metrics.auc(fpr[i], tpr[i])\n",
    "\n",
    "# Compute micro-average ROC curve and ROC area\n",
    "fpr[\"micro\"], tpr[\"micro\"], _ = metrics.roc_curve(test_y.ravel(), y_pred.ravel())\n",
    "roc_auc[\"micro\"] = metrics.auc(fpr[\"micro\"], tpr[\"micro\"])\n",
    "\n",
    "plt.figure()\n",
    "lw = 2\n",
    "plt.plot(fpr[\"micro\"], tpr[\"micro\"], color='darkorange',\n",
    "         lw=lw, label='ROC curve (area = %0.2f)' % roc_auc[\"micro\"])\n",
    "plt.plot([0, 1], [0, 1], color='navy', lw=lw, linestyle='--')\n",
    "plt.xlim([0.0, 1.0])\n",
    "plt.ylim([0.0, 1.05])\n",
    "plt.xlabel('False Positive Rate')\n",
    "plt.ylabel('True Positive Rate')\n",
    "plt.legend(loc=\"lower right\")\n",
    "plt.show()\n",
    "\n",
    "roc_score = metrics.roc_auc_score(test_y, y_pred)\n",
    "\n",
    "#print \"Loss: {} Accuracy: {}%\".format(loss_and_metrics[0],loss_and_metrics[1] * 100)\n",
    "print \"ROC AUC Score: \", roc_score"
   ]
  },
  {
   "cell_type": "code",
   "execution_count": 16,
   "metadata": {
    "collapsed": true,
    "deletable": true,
    "editable": true
   },
   "outputs": [],
   "source": [
    "def plot_confusion_matrix(cm, classes,\n",
    "                          normalize=False,\n",
    "                          title='Confusion matrix',\n",
    "                          cmap=plt.cm.Blues):\n",
    "    \"\"\"\n",
    "    This function prints and plots the confusion matrix.\n",
    "    Normalization can be applied by setting `normalize=True`.\n",
    "    \"\"\"\n",
    "    plt.imshow(cm, interpolation='nearest', cmap=cmap)\n",
    "    plt.title(title)\n",
    "    plt.colorbar()\n",
    "    tick_marks = np.arange(len(classes))\n",
    "    plt.xticks(tick_marks, classes, rotation=45)\n",
    "    plt.yticks(tick_marks, classes)\n",
    "\n",
    "    if normalize:\n",
    "        cm = cm.astype('float') / cm.sum(axis=1)[:, np.newaxis]\n",
    "        print(\"Normalized confusion matrix\")\n",
    "    else:\n",
    "        print('Confusion matrix, without normalization')\n",
    "\n",
    "    print(cm)\n",
    "\n",
    "    thresh = cm.max() / 2.\n",
    "    for i, j in itertools.product(range(cm.shape[0]), range(cm.shape[1])):\n",
    "        plt.text(j, i, cm[i, j],\n",
    "                 horizontalalignment=\"center\",\n",
    "                 color=\"white\" if cm[i, j] > thresh else \"black\")\n",
    "\n",
    "    plt.tight_layout()\n",
    "    plt.ylabel('True label')\n",
    "    plt.xlabel('Predicted label')\n"
   ]
  },
  {
   "cell_type": "code",
   "execution_count": 17,
   "metadata": {
    "collapsed": false,
    "deletable": true,
    "editable": true
   },
   "outputs": [
    {
     "name": "stdout",
     "output_type": "stream",
     "text": [
      "Confusion matrix, without normalization\n",
      "[[52  0  2  0]\n",
      " [ 2 39  0  0]\n",
      " [ 1  0 13  0]\n",
      " [ 0  0  0 21]]\n"
     ]
    },
    {
     "data": {
      "image/png": "[encoded data removed]",
      "text/plain": [
       "<matplotlib.figure.Figure at 0x7f945c037590>"
      ]
     },
     "metadata": {},
     "output_type": "display_data"
    }
   ],
   "source": [
    "plot_confusion_matrix(conf_mat, classes=paths)"
   ]
  },
  {
   "cell_type": "code",
   "execution_count": null,
   "metadata": {
    "collapsed": true,
    "deletable": true,
    "editable": true
   },
   "outputs": [],
   "source": []
  }
 ],
 "metadata": {
  "kernelspec": {
   "display_name": "Python 2",
   "language": "python",
   "name": "python2"
  },
  "language_info": {
   "codemirror_mode": {
    "name": "ipython",
    "version": 2
   },
   "file_extension": ".py",
   "mimetype": "text/x-python",
   "name": "python",
   "nbconvert_exporter": "python",
   "pygments_lexer": "ipython2",
   "version": "2.7.12"
  }
 },
 "nbformat": 4,
 "nbformat_minor": 2
}
