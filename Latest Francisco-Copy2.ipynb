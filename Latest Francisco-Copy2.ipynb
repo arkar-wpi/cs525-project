{
 "cells": [
  {
   "cell_type": "code",
   "execution_count": 1,
   "metadata": {
    "collapsed": false,
    "deletable": true,
    "editable": true
   },
   "outputs": [],
   "source": [
    "import os\n",
    "import glob\n",
    "import wave\n",
    "import core as co\n",
    "import pydub\n",
    "import librosa\n",
    "import itertools\n",
    "import numpy as np\n",
    "import contextlib\n",
    "import tensorflow as tf\n",
    "import sklearn.metrics as metrics"
   ]
  },
  {
   "cell_type": "code",
   "execution_count": 2,
   "metadata": {
    "collapsed": true,
    "deletable": true,
    "editable": true
   },
   "outputs": [],
   "source": [
    "paths = ['BD15C', 'BD15L', 'BD6B', 'BD6A']"
   ]
  },
  {
   "cell_type": "code",
   "execution_count": 3,
   "metadata": {
    "collapsed": true,
    "deletable": true,
    "editable": true
   },
   "outputs": [],
   "source": [
    "def windows(data, window_size):\n",
    "    start = 0\n",
    "    while start < len(data):\n",
    "        yield start, start + window_size\n",
    "        start += (window_size / 2)\n",
    "\n",
    "\n",
    "def extract_features(parent_dir,sub_dirs,file_ext=\"*.wav\",bands = 60, frames = 41, label = 1):\n",
    "    window_size = 512 * (frames - 1)\n",
    "    log_specgrams = []\n",
    "    labels = []\n",
    "    for l, sub_dir in enumerate(sub_dirs):\n",
    "        for fn in glob.glob(os.path.join(parent_dir, sub_dir, file_ext)):\n",
    "            sound_clip,s = librosa.load(fn)\n",
    "            for (start,end) in windows(sound_clip,window_size):\n",
    "                if(len(sound_clip[start:end]) == window_size):\n",
    "                    signal = sound_clip[start:end]\n",
    "                    melspec = librosa.feature.melspectrogram(signal, n_mels = bands)\n",
    "                    logspec = librosa.logamplitude(melspec)\n",
    "                    logspec = logspec.T.flatten()[:, np.newaxis].T\n",
    "                    log_specgrams.append(logspec)\n",
    "                    labels.append(l)\n",
    "            \n",
    "    log_specgrams = np.asarray(log_specgrams).reshape(len(log_specgrams),bands,frames,1)\n",
    "    features = np.concatenate((log_specgrams, np.zeros(np.shape(log_specgrams))), axis = 3)\n",
    "    for i in range(len(features)):\n",
    "        features[i, :, :, 1] = librosa.feature.delta(features[i, :, :, 0])\n",
    "    \n",
    "    return np.array(features), np.array(labels)"
   ]
  },
  {
   "cell_type": "code",
   "execution_count": 4,
   "metadata": {
    "collapsed": false,
    "deletable": true,
    "editable": true
   },
   "outputs": [],
   "source": [
    "parent_dir = '.'\n",
    "\n",
    "if os.path.exists('features.npy') and os.path.exists('labels.npy'):\n",
    "    features = np.load('features.npy')\n",
    "    labels = np.load('labels.npy')\n",
    "else:\n",
    "    features,labels = extract_features(parent_dir,paths,frames=41)\n",
    "    labels = co.one_hot_encode(labels)\n",
    "    np.save('features.npy', features)\n",
    "    np.save('labels.npy', labels)"
   ]
  },
  {
   "cell_type": "code",
   "execution_count": 5,
   "metadata": {
    "collapsed": false,
    "deletable": true,
    "editable": true
   },
   "outputs": [],
   "source": [
    "rnd_indices = np.random.rand(len(labels)) < 0.70\n",
    "\n",
    "train_x = features[rnd_indices]\n",
    "train_y = labels[rnd_indices]\n",
    "test_x = features[~rnd_indices]\n",
    "test_y = labels[~rnd_indices]"
   ]
  },
  {
   "cell_type": "code",
   "execution_count": 6,
   "metadata": {
    "collapsed": true,
    "deletable": true,
    "editable": true
   },
   "outputs": [],
   "source": [
    "frames = 41\n",
    "bands = 60\n",
    "\n",
    "feature_size = bands * frames #60x41\n",
    "num_labels = 4\n",
    "num_channels = 2\n",
    "\n",
    "batch_size = 50\n",
    "kernel_size = 30\n",
    "depth = 20\n",
    "num_hidden = 200\n",
    "\n",
    "starter_learning_rate = 1e-5\n",
    "training_iterations = 2000\n",
    "step = 300\n",
    "decay = 0.90"
   ]
  },
  {
   "cell_type": "code",
   "execution_count": 7,
   "metadata": {
    "collapsed": false,
    "deletable": true,
    "editable": true
   },
   "outputs": [],
   "source": [
    "X = tf.placeholder(tf.float32, shape=[None, bands, frames, num_channels])\n",
    "Y = tf.placeholder(tf.float32, shape=[None, num_labels])\n",
    "phase_train = tf.placeholder(tf.bool, name='phase_train')\n",
    "global_step = tf.Variable(0, trainable=False)\n",
    "\n",
    "conv1 = co.conv_layer(X, num_channels, depth, phase_train, 'conv1', kernel_size, kernel_size)\n",
    "conv2 = co.conv_layer(conv1, depth, depth*2, phase_train, 'conv2', kernel_size, kernel_size)\n",
    "max_pool_1 = co.max_pool_layer(conv2, name='max_pool_1')\n",
    "shape = max_pool_1.get_shape().as_list()\n",
    "max_pool_1_flat = tf.reshape(max_pool_1, [-1, shape[1] * shape[2] * shape[3]])\n",
    "\n",
    "fc1 = co.fc_layer(max_pool_1_flat, shape[1] * shape[2] * shape[3], num_hidden, phase_train, 'fc1') # fc_layer fc1\n",
    "y_ = co.fc_layer(tf.nn.relu(fc1), num_hidden, num_labels, phase_train, 'fc2')"
   ]
  },
  {
   "cell_type": "code",
   "execution_count": 8,
   "metadata": {
    "collapsed": false,
    "deletable": true,
    "editable": true
   },
   "outputs": [],
   "source": [
    "learning_rate = tf.train.exponential_decay(starter_learning_rate,global_step,step,decay,staircase=True)\n",
    "\n",
    "with tf.name_scope('xent'):\n",
    "    cross_entropy = tf.reduce_mean(tf.nn.softmax_cross_entropy_with_logits(labels=Y, logits=y_))\n",
    "with tf.name_scope('train'):\n",
    "    optimizer = tf.train.AdamOptimizer(learning_rate=learning_rate).minimize(cross_entropy, global_step=global_step)\n",
    "with tf.name_scope('accuracy'):\n",
    "    correct_prediction = tf.equal(tf.argmax(y_,1), tf.argmax(Y,1))\n",
    "    accuracy = tf.reduce_mean(tf.cast(correct_prediction, tf.float32))"
   ]
  },
  {
   "cell_type": "code",
   "execution_count": 9,
   "metadata": {
    "collapsed": false,
    "deletable": true,
    "editable": true
   },
   "outputs": [
    {
     "name": "stdout",
     "output_type": "stream",
     "text": [
      "('Train cost', 2.2067747, 'Accuracy', 0.0, 'Test cost', 22.961126, 'Accuracy', 0.14652956)\n",
      "('Train cost', 1.7502185, 'Accuracy', 0.0, 'Test cost', 1.3733252, 'Accuracy', 0.46786636)\n",
      "('Train cost', 1.6060703, 'Accuracy', 0.0, 'Test cost', 1.2775167, 'Accuracy', 0.48329049)\n",
      "('Train cost', 1.5406222, 'Accuracy', 0.0, 'Test cost', 1.0985608, 'Accuracy', 0.63496143)\n",
      "('Train cost', 0.85448539, 'Accuracy', 0.75999999, 'Test cost', 0.87408304, 'Accuracy', 0.73264784)\n",
      "('Train cost', 1.0681252, 'Accuracy', 0.60000002, 'Test cost', 0.69441801, 'Accuracy', 0.73778921)\n",
      "('Train cost', 0.61064303, 'Accuracy', 0.88, 'Test cost', 0.62220681, 'Accuracy', 0.79434448)\n",
      "('Train cost', 0.6033259, 'Accuracy', 0.71999997, 'Test cost', 0.48915029, 'Accuracy', 0.84832907)\n",
      "('Train cost', 0.59654629, 'Accuracy', 0.68000001, 'Test cost', 0.42276385, 'Accuracy', 0.840617)\n",
      "('Train cost', 0.12153327, 'Accuracy', 1.0, 'Test cost', 0.37696874, 'Accuracy', 0.88946021)\n",
      "('Train cost', 0.19850409, 'Accuracy', 0.94, 'Test cost', 0.33633754, 'Accuracy', 0.9125964)\n",
      "('Train cost', 0.10037717, 'Accuracy', 1.0, 'Test cost', 0.28648859, 'Accuracy', 0.92030847)\n",
      "('Train cost', 0.089789562, 'Accuracy', 1.0, 'Test cost', 0.37348136, 'Accuracy', 0.80976862)\n",
      "('Train cost', 0.059631787, 'Accuracy', 1.0, 'Test cost', 0.22467545, 'Accuracy', 0.94344479)\n",
      "('Train cost', 0.17518675, 'Accuracy', 0.96000004, 'Test cost', 0.22288585, 'Accuracy', 0.94344473)\n",
      "('Train cost', 0.21597894, 'Accuracy', 0.96000004, 'Test cost', 0.1974266, 'Accuracy', 0.92802054)\n",
      "('Train cost', 0.041777488, 'Accuracy', 1.0, 'Test cost', 0.20214342, 'Accuracy', 0.92287916)\n",
      "('Train cost', 0.0054335198, 'Accuracy', 1.0, 'Test cost', 0.17872375, 'Accuracy', 0.94601542)\n",
      "('Train cost', 0.0065287785, 'Accuracy', 1.0, 'Test cost', 0.22750686, 'Accuracy', 0.91002572)\n",
      "('Train cost', 0.01059811, 'Accuracy', 1.0, 'Test cost', 0.18187837, 'Accuracy', 0.93573266)\n",
      "('Train cost', 0.025778411, 'Accuracy', 1.0, 'Test cost', 0.21620911, 'Accuracy', 0.9125964)\n",
      "('Train cost', 0.0474982, 'Accuracy', 1.0, 'Test cost', 0.18013178, 'Accuracy', 0.93316197)\n",
      "('Train cost', 0.042942852, 'Accuracy', 1.0, 'Test cost', 0.14963146, 'Accuracy', 0.94087404)\n",
      "('Train cost', 0.011022517, 'Accuracy', 1.0, 'Test cost', 0.15205048, 'Accuracy', 0.95629823)\n",
      "('Train cost', 0.00076251017, 'Accuracy', 1.0, 'Test cost', 0.12138674, 'Accuracy', 0.96143961)\n",
      "('Train cost', 0.0032165493, 'Accuracy', 1.0, 'Test cost', 0.13225572, 'Accuracy', 0.95372748)\n",
      "('Train cost', 0.015965097, 'Accuracy', 1.0, 'Test cost', 0.11139308, 'Accuracy', 0.96658099)\n",
      "('Train cost', 0.0244691, 'Accuracy', 1.0, 'Test cost', 0.12201396, 'Accuracy', 0.96915162)\n",
      "('Train cost', 0.04075329, 'Accuracy', 1.0, 'Test cost', 0.1018708, 'Accuracy', 0.97172236)\n",
      "('Train cost', 0.0025716352, 'Accuracy', 1.0, 'Test cost', 0.12024897, 'Accuracy', 0.9640103)\n",
      "('Train cost', 0.00034980135, 'Accuracy', 1.0, 'Test cost', 0.13415124, 'Accuracy', 0.96658099)\n",
      "('Train cost', 0.02614319, 'Accuracy', 1.0, 'Test cost', 0.13032943, 'Accuracy', 0.96143955)\n",
      "('Train cost', 0.059140414, 'Accuracy', 1.0, 'Test cost', 0.16490136, 'Accuracy', 0.96658099)\n",
      "('Train cost', 0.045048676, 'Accuracy', 1.0, 'Test cost', 0.16624436, 'Accuracy', 0.96143961)\n",
      "('Train cost', 0.019069271, 'Accuracy', 1.0, 'Test cost', 0.22809179, 'Accuracy', 0.94087404)\n",
      "('Train cost', 0.018305341, 'Accuracy', 1.0, 'Test cost', 0.22419244, 'Accuracy', 0.93059123)\n",
      "('Train cost', 0.0064966073, 'Accuracy', 1.0, 'Test cost', 0.27737835, 'Accuracy', 0.90488434)\n",
      "('Train cost', 0.015579021, 'Accuracy', 1.0, 'Test cost', 0.61868614, 'Accuracy', 0.75578409)\n",
      "('Train cost', 0.035419166, 'Accuracy', 1.0, 'Test cost', 0.58550227, 'Accuracy', 0.76863748)\n",
      "('Train cost', 0.05766046, 'Accuracy', 1.0, 'Test cost', 0.77897155, 'Accuracy', 0.79691517)\n",
      "('Test accuracy', 0.9)\n"
     ]
    }
   ],
   "source": [
    "cost_history = np.empty(shape=[1],dtype=float)\n",
    "with tf.Session() as session:\n",
    "    session.run(tf.global_variables_initializer())\n",
    "\n",
    "    for itr in range(training_iterations):    \n",
    "        offset = (itr * batch_size) % (train_y.shape[0] - batch_size)\n",
    "        batch_x = train_x[offset:(offset + batch_size), :, :, :]\n",
    "        batch_y = train_y[offset:(offset + batch_size), :]\n",
    "        \n",
    "        _, c, a = session.run([optimizer, cross_entropy, accuracy],feed_dict={X: batch_x, Y : batch_y, phase_train : True})\n",
    "        cost_history = np.append(cost_history,c)\n",
    "        if itr % 50 == 0:\n",
    "            _, tc, ta = session.run([optimizer, cross_entropy, accuracy],feed_dict={X: test_x, Y : test_y, phase_train : False})\n",
    "            print ('Train cost', c, 'Accuracy', a, 'Test cost', tc, 'Accuracy', ta)\n",
    "\n",
    "    y_pred = session.run(y_, feed_dict={X: test_x, Y: test_y, phase_train: False})\n",
    "    print('Test accuracy',round(session.run(accuracy, feed_dict={X: test_x, Y: test_y, phase_train: False}) , 3))\n",
    "    "
   ]
  },
  {
   "cell_type": "code",
   "execution_count": 10,
   "metadata": {
    "collapsed": false,
    "deletable": true,
    "editable": true
   },
   "outputs": [
    {
     "data": {
      "image/png": "[encoded data removed]",
      "text/plain": [
       "<matplotlib.figure.Figure at 0x7fba49b42610>"
      ]
     },
     "metadata": {},
     "output_type": "display_data"
    }
   ],
   "source": [
    "%matplotlib inline\n",
    "import matplotlib.pyplot as plt\n",
    "fig = plt.figure(figsize=(15,10))\n",
    "plt.plot(cost_history)\n",
    "# plt.axis([0,training_epochs,0,np.max(cost_history)])\n",
    "plt.show()"
   ]
  },
  {
   "cell_type": "code",
   "execution_count": 11,
   "metadata": {
    "collapsed": false,
    "deletable": true,
    "editable": true
   },
   "outputs": [],
   "source": [
    "y_test_class = np.argmax(test_y, axis=1)\n",
    "y_pred_class = np.argmax(y_pred, axis=1)\n",
    "conf_mat = metrics.confusion_matrix(y_test_class, y_pred_class)"
   ]
  },
  {
   "cell_type": "code",
   "execution_count": 12,
   "metadata": {
    "collapsed": false,
    "deletable": true,
    "editable": true
   },
   "outputs": [
    {
     "data": {
      "image/png": "[encoded data removed]",
      "text/plain": [
       "<matplotlib.figure.Figure at 0x7fb9dab8a550>"
      ]
     },
     "metadata": {},
     "output_type": "display_data"
    },
    {
     "name": "stdout",
     "output_type": "stream",
     "text": [
      "ROC AUC Score:  0.957087361237\n"
     ]
    }
   ],
   "source": [
    "# Compute ROC curve and ROC area for each class\n",
    "n_classes = 4\n",
    "fpr = dict()\n",
    "tpr = dict()\n",
    "roc_auc = dict()\n",
    "\n",
    "for i in range(n_classes):\n",
    "    fpr[i], tpr[i], _ = metrics.roc_curve(test_y[:, i], y_pred[:, i])\n",
    "    roc_auc[i] = metrics.auc(fpr[i], tpr[i])\n",
    "\n",
    "# Compute micro-average ROC curve and ROC area\n",
    "fpr[\"micro\"], tpr[\"micro\"], _ = metrics.roc_curve(test_y.ravel(), y_pred.ravel())\n",
    "roc_auc[\"micro\"] = metrics.auc(fpr[\"micro\"], tpr[\"micro\"])\n",
    "\n",
    "plt.figure()\n",
    "lw = 2\n",
    "plt.plot(fpr[\"micro\"], tpr[\"micro\"], color='darkorange',\n",
    "         lw=lw, label='ROC curve (area = %0.2f)' % roc_auc[\"micro\"])\n",
    "plt.plot([0, 1], [0, 1], color='navy', lw=lw, linestyle='--')\n",
    "plt.xlim([0.0, 1.0])\n",
    "plt.ylim([0.0, 1.05])\n",
    "plt.xlabel('False Positive Rate')\n",
    "plt.ylabel('True Positive Rate')\n",
    "plt.legend(loc=\"lower right\")\n",
    "plt.show()\n",
    "\n",
    "roc_score = metrics.roc_auc_score(test_y, y_pred)\n",
    "\n",
    "#print \"Loss: {} Accuracy: {}%\".format(loss_and_metrics[0],loss_and_metrics[1] * 100)\n",
    "print \"ROC AUC Score: \", roc_score"
   ]
  },
  {
   "cell_type": "code",
   "execution_count": 13,
   "metadata": {
    "collapsed": true,
    "deletable": true,
    "editable": true
   },
   "outputs": [],
   "source": [
    "def plot_confusion_matrix(cm, classes,\n",
    "                          normalize=False,\n",
    "                          title='Confusion matrix',\n",
    "                          cmap=plt.cm.Blues):\n",
    "    \"\"\"\n",
    "    This function prints and plots the confusion matrix.\n",
    "    Normalization can be applied by setting `normalize=True`.\n",
    "    \"\"\"\n",
    "    plt.imshow(cm, interpolation='nearest', cmap=cmap)\n",
    "    plt.title(title)\n",
    "    plt.colorbar()\n",
    "    tick_marks = np.arange(len(classes))\n",
    "    plt.xticks(tick_marks, classes, rotation=45)\n",
    "    plt.yticks(tick_marks, classes)\n",
    "\n",
    "    if normalize:\n",
    "        cm = cm.astype('float') / cm.sum(axis=1)[:, np.newaxis]\n",
    "        print(\"Normalized confusion matrix\")\n",
    "    else:\n",
    "        print('Confusion matrix, without normalization')\n",
    "\n",
    "    print(cm)\n",
    "\n",
    "    thresh = cm.max() / 2.\n",
    "    for i, j in itertools.product(range(cm.shape[0]), range(cm.shape[1])):\n",
    "        plt.text(j, i, cm[i, j],\n",
    "                 horizontalalignment=\"center\",\n",
    "                 color=\"white\" if cm[i, j] > thresh else \"black\")\n",
    "\n",
    "    plt.tight_layout()\n",
    "    plt.ylabel('True label')\n",
    "    plt.xlabel('Predicted label')\n"
   ]
  },
  {
   "cell_type": "code",
   "execution_count": 14,
   "metadata": {
    "collapsed": false,
    "deletable": true,
    "editable": true
   },
   "outputs": [
    {
     "name": "stdout",
     "output_type": "stream",
     "text": [
      "Confusion matrix, without normalization\n",
      "[[ 47   0   2   8]\n",
      " [  0 135   0  24]\n",
      " [  0   0  66   3]\n",
      " [  0   2   0 102]]\n"
     ]
    },
    {
     "data": {
      "image/png": "[encoded data removed]",
      "text/plain": [
       "<matplotlib.figure.Figure at 0x7fb9daaf4650>"
      ]
     },
     "metadata": {},
     "output_type": "display_data"
    }
   ],
   "source": [
    "plot_confusion_matrix(conf_mat, classes=paths)"
   ]
  },
  {
   "cell_type": "code",
   "execution_count": null,
   "metadata": {
    "collapsed": true,
    "deletable": true,
    "editable": true
   },
   "outputs": [],
   "source": []
  }
 ],
 "metadata": {
  "kernelspec": {
   "display_name": "Python 2",
   "language": "python",
   "name": "python2"
  },
  "language_info": {
   "codemirror_mode": {
    "name": "ipython",
    "version": 2
   },
   "file_extension": ".py",
   "mimetype": "text/x-python",
   "name": "python",
   "nbconvert_exporter": "python",
   "pygments_lexer": "ipython2",
   "version": "2.7.12"
  }
 },
 "nbformat": 4,
 "nbformat_minor": 2
}
