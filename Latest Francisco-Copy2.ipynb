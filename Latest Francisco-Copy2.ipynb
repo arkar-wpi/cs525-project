{
 "cells": [
  {
   "cell_type": "code",
   "execution_count": 1,
   "metadata": {
    "collapsed": false,
    "deletable": true,
    "editable": true
   },
   "outputs": [],
   "source": [
    "import os\n",
    "import glob\n",
    "import wave\n",
    "import core as co\n",
    "import pydub\n",
    "import librosa\n",
    "import itertools\n",
    "import numpy as np\n",
    "import contextlib\n",
    "import tensorflow as tf\n",
    "import sklearn.metrics as metrics"
   ]
  },
  {
   "cell_type": "code",
   "execution_count": 2,
   "metadata": {
    "collapsed": true,
    "deletable": true,
    "editable": true
   },
   "outputs": [],
   "source": [
    "paths = ['BD15C', 'BD15L', 'BD6B', 'BD6A']"
   ]
  },
  {
   "cell_type": "code",
   "execution_count": 3,
   "metadata": {
    "collapsed": true,
    "deletable": true,
    "editable": true
   },
   "outputs": [],
   "source": [
    "def windows(data, window_size):\n",
    "    start = 0\n",
    "    while start < len(data):\n",
    "        yield start, start + window_size\n",
    "        start += (window_size / 2)\n",
    "\n",
    "\n",
    "def extract_features(parent_dir,sub_dirs,file_ext=\"*.wav\",bands = 60, frames = 41, label = 1):\n",
    "    window_size = 512 * (frames - 1)\n",
    "    log_specgrams = []\n",
    "    labels = []\n",
    "    for l, sub_dir in enumerate(sub_dirs):\n",
    "        for fn in glob.glob(os.path.join(parent_dir, sub_dir, file_ext)):\n",
    "            sound_clip,s = librosa.load(fn)\n",
    "            for (start,end) in windows(sound_clip,window_size):\n",
    "                if(len(sound_clip[start:end]) == window_size):\n",
    "                    signal = sound_clip[start:end]\n",
    "                    melspec = librosa.feature.melspectrogram(signal, n_mels = bands)\n",
    "                    logspec = librosa.logamplitude(melspec)\n",
    "                    logspec = logspec.T.flatten()[:, np.newaxis].T\n",
    "                    log_specgrams.append(logspec)\n",
    "                    labels.append(l)\n",
    "            \n",
    "    log_specgrams = np.asarray(log_specgrams).reshape(len(log_specgrams),bands,frames,1)\n",
    "    features = np.concatenate((log_specgrams, np.zeros(np.shape(log_specgrams))), axis = 3)\n",
    "    for i in range(len(features)):\n",
    "        features[i, :, :, 1] = librosa.feature.delta(features[i, :, :, 0])\n",
    "    \n",
    "    return np.array(features), np.array(labels)"
   ]
  },
  {
   "cell_type": "code",
   "execution_count": 4,
   "metadata": {
    "collapsed": false,
    "deletable": true,
    "editable": true
   },
   "outputs": [],
   "source": [
    "parent_dir = '.'\n",
    "\n",
    "if os.path.exists('features.npy') and os.path.exists('labels.npy'):\n",
    "    features = np.load('features.npy')\n",
    "    labels = np.load('labels.npy')\n",
    "else:\n",
    "    features,labels = extract_features(parent_dir,paths,frames=41)\n",
    "    np.save('features.npy', features)\n",
    "    np.save('labels.npy', labels)"
   ]
  },
  {
   "cell_type": "code",
   "execution_count": 16,
   "metadata": {
    "collapsed": true
   },
   "outputs": [],
   "source": [
    "np.save('features.npy', features)\n",
    "np.save('labels.npy', labels)"
   ]
  },
  {
   "cell_type": "code",
   "execution_count": 5,
   "metadata": {
    "collapsed": false,
    "deletable": true,
    "editable": true
   },
   "outputs": [],
   "source": [
    "labels = co.one_hot_encode(labels)"
   ]
  },
  {
   "cell_type": "code",
   "execution_count": 6,
   "metadata": {
    "collapsed": false,
    "deletable": true,
    "editable": true
   },
   "outputs": [],
   "source": [
    "rnd_indices = np.random.rand(len(labels)) < 0.70\n",
    "\n",
    "train_x = features[rnd_indices]\n",
    "train_y = labels[rnd_indices]\n",
    "test_x = features[~rnd_indices]\n",
    "test_y = labels[~rnd_indices]"
   ]
  },
  {
   "cell_type": "code",
   "execution_count": 7,
   "metadata": {
    "collapsed": true,
    "deletable": true,
    "editable": true
   },
   "outputs": [],
   "source": [
    "frames = 41\n",
    "bands = 60\n",
    "\n",
    "feature_size = bands * frames #60x41\n",
    "num_labels = 4\n",
    "num_channels = 2\n",
    "\n",
    "batch_size = 50\n",
    "kernel_size = 30\n",
    "depth = 20\n",
    "num_hidden = 200\n",
    "\n",
    "starter_learning_rate = 1e-4\n",
    "training_iterations = 2000\n",
    "step = 300\n",
    "decay = 0.85"
   ]
  },
  {
   "cell_type": "code",
   "execution_count": 8,
   "metadata": {
    "collapsed": false,
    "deletable": true,
    "editable": true
   },
   "outputs": [],
   "source": [
    "X = tf.placeholder(tf.float32, shape=[None, bands, frames, num_channels])\n",
    "Y = tf.placeholder(tf.float32, shape=[None, num_labels])\n",
    "phase_train = tf.placeholder(tf.bool, name='phase_train')\n",
    "global_step = tf.Variable(0, trainable=False)\n",
    "\n",
    "conv1 = co.conv_layer(X, num_channels, depth, phase_train, 'conv1', kernel_size, kernel_size)\n",
    "conv2 = co.conv_layer(conv1, depth, depth*2, phase_train, 'conv2', kernel_size, kernel_size)\n",
    "max_pool_1 = co.max_pool_layer(conv2, name='max_pool_1')\n",
    "shape = max_pool_1.get_shape().as_list()\n",
    "max_pool_1_flat = tf.reshape(max_pool_1, [-1, shape[1] * shape[2] * shape[3]])\n",
    "\n",
    "fc1 = co.fc_layer(max_pool_1_flat, shape[1] * shape[2] * shape[3], num_hidden, phase_train, 'fc1') # fc_layer fc1\n",
    "y_ = co.fc_layer(tf.nn.relu(fc1), num_hidden, num_labels, phase_train, 'fc2')"
   ]
  },
  {
   "cell_type": "code",
   "execution_count": 9,
   "metadata": {
    "collapsed": false,
    "deletable": true,
    "editable": true
   },
   "outputs": [],
   "source": [
    "learning_rate = tf.train.exponential_decay(starter_learning_rate,global_step,step,decay,staircase=True)\n",
    "\n",
    "with tf.name_scope('xent'):\n",
    "    cross_entropy = tf.reduce_mean(tf.nn.softmax_cross_entropy_with_logits(labels=Y, logits=y_))\n",
    "with tf.name_scope('train'):\n",
    "    optimizer = tf.train.AdamOptimizer(learning_rate=learning_rate).minimize(cross_entropy, global_step=global_step)\n",
    "with tf.name_scope('accuracy'):\n",
    "    correct_prediction = tf.equal(tf.argmax(y_,1), tf.argmax(Y,1))\n",
    "    accuracy = tf.reduce_mean(tf.cast(correct_prediction, tf.float32))"
   ]
  },
  {
   "cell_type": "code",
   "execution_count": 10,
   "metadata": {
    "collapsed": false,
    "deletable": true,
    "editable": true
   },
   "outputs": [
    {
     "name": "stdout",
     "output_type": "stream",
     "text": [
      "('Train cost', 0.86444592, 'Accuracy', 0.34, 'Test cost', 29.475174, 'Accuracy', 0.14864865)\n",
      "('Train cost', 2.4103284, 'Accuracy', 0.0, 'Test cost', 1.6933149, 'Accuracy', 0.41621622)\n",
      "('Train cost', 1.7159706, 'Accuracy', 0.0, 'Test cost', 1.1760935, 'Accuracy', 0.41891894)\n",
      "('Train cost', 1.5948157, 'Accuracy', 0.0, 'Test cost', 0.94248557, 'Accuracy', 0.68378389)\n",
      "('Train cost', 1.202878, 'Accuracy', 0.53999996, 'Test cost', 0.8128677, 'Accuracy', 0.74324334)\n",
      "('Train cost', 0.11154973, 'Accuracy', 1.0, 'Test cost', 0.71557128, 'Accuracy', 0.6648649)\n",
      "('Train cost', 0.41858792, 'Accuracy', 1.0, 'Test cost', 0.59386826, 'Accuracy', 0.79729736)\n",
      "('Train cost', 0.08499901, 'Accuracy', 1.0, 'Test cost', 0.52589619, 'Accuracy', 0.81621623)\n",
      "('Train cost', 0.51302284, 'Accuracy', 0.79999995, 'Test cost', 0.51710188, 'Accuracy', 0.79459465)\n",
      "('Train cost', 0.014545627, 'Accuracy', 1.0, 'Test cost', 0.47399211, 'Accuracy', 0.80810809)\n",
      "('Train cost', 0.24778003, 'Accuracy', 1.0, 'Test cost', 0.85263515, 'Accuracy', 0.64864868)\n",
      "('Train cost', 0.090553299, 'Accuracy', 0.98000002, 'Test cost', 1.0093477, 'Accuracy', 0.57837832)\n",
      "('Train cost', 0.061319884, 'Accuracy', 1.0, 'Test cost', 0.67700595, 'Accuracy', 0.72162163)\n",
      "('Train cost', 0.098714262, 'Accuracy', 1.0, 'Test cost', 0.52385062, 'Accuracy', 0.78918922)\n",
      "('Train cost', 0.25999522, 'Accuracy', 0.98000002, 'Test cost', 0.33143306, 'Accuracy', 0.87027031)\n",
      "('Train cost', 0.13391253, 'Accuracy', 0.98000002, 'Test cost', 0.34982458, 'Accuracy', 0.87027031)\n",
      "('Train cost', 0.049567364, 'Accuracy', 0.98000002, 'Test cost', 0.72540724, 'Accuracy', 0.79729724)\n",
      "('Train cost', 0.059359759, 'Accuracy', 1.0, 'Test cost', 0.4068163, 'Accuracy', 0.81891894)\n",
      "('Train cost', 0.0023101717, 'Accuracy', 1.0, 'Test cost', 0.32404053, 'Accuracy', 0.8810811)\n",
      "('Train cost', 0.036756441, 'Accuracy', 1.0, 'Test cost', 0.22684988, 'Accuracy', 0.90810817)\n",
      "('Train cost', 0.12374905, 'Accuracy', 0.94000006, 'Test cost', 0.33087385, 'Accuracy', 0.89189196)\n",
      "('Train cost', 0.0231576, 'Accuracy', 1.0, 'Test cost', 0.36540982, 'Accuracy', 0.85405409)\n",
      "('Train cost', 0.11062045, 'Accuracy', 0.95999998, 'Test cost', 0.9008078, 'Accuracy', 0.74594599)\n",
      "('Train cost', 0.13681546, 'Accuracy', 0.94000006, 'Test cost', 0.36477306, 'Accuracy', 0.84864861)\n",
      "('Train cost', 0.15468757, 'Accuracy', 0.97999996, 'Test cost', 0.18349312, 'Accuracy', 0.9513514)\n",
      "('Train cost', 0.048870999, 'Accuracy', 1.0, 'Test cost', 0.18448506, 'Accuracy', 0.94054055)\n",
      "('Train cost', 0.11210528, 'Accuracy', 0.97999996, 'Test cost', 0.17972866, 'Accuracy', 0.92162168)\n",
      "('Train cost', 0.0058467216, 'Accuracy', 1.0, 'Test cost', 0.25413248, 'Accuracy', 0.88918924)\n",
      "('Train cost', 0.01619162, 'Accuracy', 1.0, 'Test cost', 0.21428716, 'Accuracy', 0.90270281)\n",
      "('Train cost', 0.0027459429, 'Accuracy', 1.0, 'Test cost', 0.18721886, 'Accuracy', 0.93513513)\n",
      "('Train cost', 0.0021264565, 'Accuracy', 1.0, 'Test cost', 0.11712138, 'Accuracy', 0.96216226)\n",
      "('Train cost', 0.042662971, 'Accuracy', 1.0, 'Test cost', 0.17262229, 'Accuracy', 0.96216226)\n",
      "('Train cost', 0.0025570898, 'Accuracy', 1.0, 'Test cost', 0.44892377, 'Accuracy', 0.81081086)\n",
      "('Train cost', 0.002835941, 'Accuracy', 1.0, 'Test cost', 0.97605389, 'Accuracy', 0.71351349)\n",
      "('Train cost', 0.094322681, 'Accuracy', 1.0, 'Test cost', 0.34307313, 'Accuracy', 0.89189196)\n",
      "('Train cost', 0.024374695, 'Accuracy', 1.0, 'Test cost', 0.19649474, 'Accuracy', 0.93243253)\n",
      "('Train cost', 0.014727369, 'Accuracy', 1.0, 'Test cost', 0.14778495, 'Accuracy', 0.94324327)\n",
      "('Train cost', 0.008734867, 'Accuracy', 1.0, 'Test cost', 0.16738766, 'Accuracy', 0.93513513)\n",
      "('Train cost', 0.006480936, 'Accuracy', 1.0, 'Test cost', 0.16109756, 'Accuracy', 0.93243253)\n",
      "('Train cost', 0.0023053419, 'Accuracy', 1.0, 'Test cost', 0.13550603, 'Accuracy', 0.94864869)\n",
      "('Test accuracy', 0.973)\n"
     ]
    }
   ],
   "source": [
    "cost_history = np.empty(shape=[1],dtype=float)\n",
    "with tf.Session() as session:\n",
    "    session.run(tf.global_variables_initializer())\n",
    "\n",
    "    for itr in range(training_iterations):    \n",
    "        offset = (itr * batch_size) % (train_y.shape[0] - batch_size)\n",
    "        batch_x = train_x[offset:(offset + batch_size), :, :, :]\n",
    "        batch_y = train_y[offset:(offset + batch_size), :]\n",
    "        \n",
    "        _, c, a = session.run([optimizer, cross_entropy, accuracy],feed_dict={X: batch_x, Y : batch_y, phase_train : True})\n",
    "        cost_history = np.append(cost_history,c)\n",
    "        if itr % 50 == 0:\n",
    "            _, tc, ta = session.run([optimizer, cross_entropy, accuracy],feed_dict={X: test_x, Y : test_y, phase_train : False})\n",
    "            print ('Train cost', c, 'Accuracy', a, 'Test cost', tc, 'Accuracy', ta)\n",
    "\n",
    "    y_pred = session.run(y_, feed_dict={X: test_x, Y: test_y, phase_train: False})\n",
    "    print('Test accuracy',round(session.run(accuracy, feed_dict={X: test_x, Y: test_y, phase_train: False}) , 3))\n",
    "    "
   ]
  },
  {
   "cell_type": "code",
   "execution_count": 11,
   "metadata": {
    "collapsed": false,
    "deletable": true,
    "editable": true
   },
   "outputs": [
    {
     "data": {
      "image/png": "[encoded data removed]",
      "text/plain": [
       "<matplotlib.figure.Figure at 0x7f9aa6d916d0>"
      ]
     },
     "metadata": {},
     "output_type": "display_data"
    }
   ],
   "source": [
    "%matplotlib inline\n",
    "import matplotlib.pyplot as plt\n",
    "fig = plt.figure(figsize=(15,10))\n",
    "plt.plot(cost_history)\n",
    "# plt.axis([0,training_epochs,0,np.max(cost_history)])\n",
    "plt.show()"
   ]
  },
  {
   "cell_type": "code",
   "execution_count": 12,
   "metadata": {
    "collapsed": false
   },
   "outputs": [],
   "source": [
    "y_test_class = np.argmax(test_y, axis=1)\n",
    "y_pred_class = np.argmax(y_pred, axis=1)\n",
    "conf_mat = metrics.confusion_matrix(y_test_class, y_pred_class)"
   ]
  },
  {
   "cell_type": "code",
   "execution_count": 13,
   "metadata": {
    "collapsed": false
   },
   "outputs": [
    {
     "name": "stdout",
     "output_type": "stream",
     "text": [
      "Confusion matrix:\n",
      "\tC0 C1 C2 C3\n",
      " C0:\t[53  0  2  0]\n",
      " C1:\t[  0 152   0   2]\n",
      " C2:\t[ 0  0 76  0]\n",
      " C3:\t[ 0  4  2 79]\n"
     ]
    },
    {
     "data": {
      "image/png": "[encoded data removed]",
      "text/plain": [
       "<matplotlib.figure.Figure at 0x7f9a52318410>"
      ]
     },
     "metadata": {},
     "output_type": "display_data"
    },
    {
     "name": "stdout",
     "output_type": "stream",
     "text": [
      "ROC AUC Score:  0.979807654721\n"
     ]
    }
   ],
   "source": [
    "print(\"Confusion matrix:\\n\\tC0 C1 C2 C3\\n C0:\\t{}\\n C1:\\t{}\\n C2:\\t{}\\n C3:\\t{}\".format(conf_mat[0],conf_mat[1],conf_mat[2],conf_mat[3]))\n",
    "\n",
    "# Compute ROC curve and ROC area for each class\n",
    "n_classes = 4\n",
    "fpr = dict()\n",
    "tpr = dict()\n",
    "roc_auc = dict()\n",
    "\n",
    "for i in range(n_classes):\n",
    "    fpr[i], tpr[i], _ = metrics.roc_curve(test_y[:, i], y_pred[:, i])\n",
    "    roc_auc[i] = metrics.auc(fpr[i], tpr[i])\n",
    "\n",
    "# Compute micro-average ROC curve and ROC area\n",
    "fpr[\"micro\"], tpr[\"micro\"], _ = metrics.roc_curve(test_y.ravel(), y_pred.ravel())\n",
    "roc_auc[\"micro\"] = metrics.auc(fpr[\"micro\"], tpr[\"micro\"])\n",
    "\n",
    "plt.figure()\n",
    "lw = 2\n",
    "plt.plot(fpr[\"micro\"], tpr[\"micro\"], color='darkorange',\n",
    "         lw=lw, label='ROC curve (area = %0.2f)' % roc_auc[\"micro\"])\n",
    "plt.plot([0, 1], [0, 1], color='navy', lw=lw, linestyle='--')\n",
    "plt.xlim([0.0, 1.0])\n",
    "plt.ylim([0.0, 1.05])\n",
    "plt.xlabel('False Positive Rate')\n",
    "plt.ylabel('True Positive Rate')\n",
    "plt.legend(loc=\"lower right\")\n",
    "plt.show()\n",
    "\n",
    "roc_score = metrics.roc_auc_score(test_y, y_pred)\n",
    "\n",
    "#print \"Loss: {} Accuracy: {}%\".format(loss_and_metrics[0],loss_and_metrics[1] * 100)\n",
    "print \"ROC AUC Score: \", roc_score"
   ]
  },
  {
   "cell_type": "code",
   "execution_count": 14,
   "metadata": {
    "collapsed": true
   },
   "outputs": [],
   "source": [
    "def plot_confusion_matrix(cm, classes,\n",
    "                          normalize=False,\n",
    "                          title='Confusion matrix',\n",
    "                          cmap=plt.cm.Blues):\n",
    "    \"\"\"\n",
    "    This function prints and plots the confusion matrix.\n",
    "    Normalization can be applied by setting `normalize=True`.\n",
    "    \"\"\"\n",
    "    plt.imshow(cm, interpolation='nearest', cmap=cmap)\n",
    "    plt.title(title)\n",
    "    plt.colorbar()\n",
    "    tick_marks = np.arange(len(classes))\n",
    "    plt.xticks(tick_marks, classes, rotation=45)\n",
    "    plt.yticks(tick_marks, classes)\n",
    "\n",
    "    if normalize:\n",
    "        cm = cm.astype('float') / cm.sum(axis=1)[:, np.newaxis]\n",
    "        print(\"Normalized confusion matrix\")\n",
    "    else:\n",
    "        print('Confusion matrix, without normalization')\n",
    "\n",
    "    print(cm)\n",
    "\n",
    "    thresh = cm.max() / 2.\n",
    "    for i, j in itertools.product(range(cm.shape[0]), range(cm.shape[1])):\n",
    "        plt.text(j, i, cm[i, j],\n",
    "                 horizontalalignment=\"center\",\n",
    "                 color=\"white\" if cm[i, j] > thresh else \"black\")\n",
    "\n",
    "    plt.tight_layout()\n",
    "    plt.ylabel('True label')\n",
    "    plt.xlabel('Predicted label')\n"
   ]
  },
  {
   "cell_type": "code",
   "execution_count": 15,
   "metadata": {
    "collapsed": false
   },
   "outputs": [
    {
     "name": "stdout",
     "output_type": "stream",
     "text": [
      "Confusion matrix, without normalization\n",
      "[[ 53   0   2   0]\n",
      " [  0 152   0   2]\n",
      " [  0   0  76   0]\n",
      " [  0   4   2  79]]\n"
     ]
    },
    {
     "data": {
      "image/png": "[encoded data removed]",
      "text/plain": [
       "<matplotlib.figure.Figure at 0x7f9a52363c50>"
      ]
     },
     "metadata": {},
     "output_type": "display_data"
    }
   ],
   "source": [
    "plot_confusion_matrix(conf_mat, classes=paths)"
   ]
  },
  {
   "cell_type": "code",
   "execution_count": null,
   "metadata": {
    "collapsed": true
   },
   "outputs": [],
   "source": []
  }
 ],
 "metadata": {
  "kernelspec": {
   "display_name": "Python 2",
   "language": "python",
   "name": "python2"
  },
  "language_info": {
   "codemirror_mode": {
    "name": "ipython",
    "version": 2
   },
   "file_extension": ".py",
   "mimetype": "text/x-python",
   "name": "python",
   "nbconvert_exporter": "python",
   "pygments_lexer": "ipython2",
   "version": "2.7.12"
  }
 },
 "nbformat": 4,
 "nbformat_minor": 2
}
