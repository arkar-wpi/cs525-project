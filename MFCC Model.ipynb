{
 "cells": [
  {
   "cell_type": "code",
   "execution_count": 1,
   "metadata": {
    "collapsed": false
   },
   "outputs": [
    {
     "name": "stderr",
     "output_type": "stream",
     "text": [
      "Using TensorFlow backend.\n"
     ]
    }
   ],
   "source": [
    "import numpy as np\n",
    "from keras.models import Model\n",
    "from keras.layers import Conv2D, Conv1D, Input, Reshape, Dense, Flatten\n",
    "from keras.layers import BatchNormalization, Activation, AveragePooling1D\n",
    "from keras.optimizers import SGD\n",
    "from keras.callbacks import ModelCheckpoint\n"
   ]
  },
  {
   "cell_type": "code",
   "execution_count": null,
   "metadata": {
    "collapsed": false
   },
   "outputs": [],
   "source": []
  },
  {
   "cell_type": "code",
   "execution_count": null,
   "metadata": {
    "collapsed": true
   },
   "outputs": [],
   "source": []
  },
  {
   "cell_type": "code",
   "execution_count": 2,
   "metadata": {
    "collapsed": true
   },
   "outputs": [],
   "source": [
    "xtrain = np.load('./Data/train_features.npy')\n",
    "ytrain = np.load('./Data/train_labels.npy')\n",
    "\n",
    "xval = np.load('./Data/val_features.npy')\n",
    "yval = np.load('./Data/val_labels.npy')"
   ]
  },
  {
   "cell_type": "code",
   "execution_count": 58,
   "metadata": {
    "collapsed": false
   },
   "outputs": [],
   "source": [
    "#### Model ####\n",
    "\n",
    "X = Input(batch_shape = (None, 60, 41, 2))\n",
    "\n",
    "conv1 = Conv2D(128, (3, 41), strides = (1,41), padding = 'same', kernel_initializer = 'he_normal')(X)\n",
    "bn1 = BatchNormalization()(conv1)\n",
    "act1 = Activation('relu')(bn1)\n",
    "\n",
    "reshape = Reshape((60,128))(act1)\n",
    "\n",
    "conv2 = Conv1D(256, 3, strides = 1, padding = 'same', kernel_initializer = 'he_normal')(reshape)\n",
    "bn2 = BatchNormalization()(conv2)\n",
    "act2 = Activation('relu')(bn2)\n",
    "\n",
    "pool = AveragePooling1D(pool_size = act2.get_shape().as_list()[1], \n",
    "                        strides=1, padding='valid')(act2)\n",
    "\n",
    "flat = Flatten()(pool)\n",
    "d = Dense(4, kernel_initializer='he_normal')(flat)\n",
    "bn_d = BatchNormalization()(d)\n",
    "Yhat = Activation('softmax')(bn_d)\n",
    "\n",
    "model = Model(X, Yhat)\n",
    "\n",
    "#### Training Set Up ####\n",
    "\n",
    "weight_dict = {0: float(ytrain[ytrain[:,0]==1].shape[0])/ytrain[ytrain[:,0]==1].shape[0],\n",
    "               1: float(ytrain[ytrain[:,0]==1].shape[0])/ytrain[ytrain[:,1]==1].shape[0],\n",
    "               2: float(ytrain[ytrain[:,0]==1].shape[0])/ytrain[ytrain[:,2]==1].shape[0],\n",
    "               3: float(ytrain[ytrain[:,0]==1].shape[0])/ytrain[ytrain[:,3]==1].shape[0]}\n",
    "\n",
    "lr = 1e-6                                                                                                                                                           \n",
    "dcy = 0.0\n",
    "m = 0.0                                                                                                                                                                           \n",
    "sgd = SGD(lr=lr, momentum=m, decay=dcy,  nesterov=True)\n",
    "\n",
    "name = './history/model_lr%.1ef_dcy%.2f_m%.2f' % (lr, dcy, m)\n",
    "checkpointer = ModelCheckpoint(filepath = name + '_{epoch:03d}-{val_acc:.2f}.h5',\n",
    "                               monitor = 'val_acc', verbose=0, save_best_only=True)\n",
    "\n",
    "model.compile(optimizer = sgd, loss = 'categorical_crossentropy', metrics = ['accuracy'])\n",
    "\n",
    "\n"
   ]
  },
  {
   "cell_type": "code",
   "execution_count": 59,
   "metadata": {
    "collapsed": false
   },
   "outputs": [
    {
     "name": "stdout",
     "output_type": "stream",
     "text": [
      "Train on 8354 samples, validate on 1660 samples\n",
      "Epoch 1/6\n",
      "8354/8354 [==============================] - 22s - loss: 1.4664 - acc: 0.3996 - val_loss: 1.5573 - val_acc: 0.3199\n",
      "Epoch 2/6\n",
      "8354/8354 [==============================] - 21s - loss: 1.3273 - acc: 0.4587 - val_loss: 1.7561 - val_acc: 0.2867\n",
      "Epoch 3/6\n",
      "8354/8354 [==============================] - 21s - loss: 1.1875 - acc: 0.5306 - val_loss: 1.9345 - val_acc: 0.3428\n",
      "Epoch 4/6\n",
      "8354/8354 [==============================] - 21s - loss: 1.0867 - acc: 0.5758 - val_loss: 2.2220 - val_acc: 0.2711\n",
      "Epoch 5/6\n",
      "8354/8354 [==============================] - 21s - loss: 1.0416 - acc: 0.6069 - val_loss: 2.5870 - val_acc: 0.2024\n",
      "Epoch 6/6\n",
      "8354/8354 [==============================] - 21s - loss: 1.0156 - acc: 0.6307 - val_loss: 2.8287 - val_acc: 0.1512\n"
     ]
    },
    {
     "data": {
      "text/plain": [
       "<keras.callbacks.History at 0x7ff9068a5ed0>"
      ]
     },
     "execution_count": 59,
     "metadata": {},
     "output_type": "execute_result"
    }
   ],
   "source": [
    "model.fit(xtrain, ytrain, batch_size=64, epochs=6, verbose=1, callbacks = [checkpointer], \n",
    "          validation_data= (xval, yval), class_weight=None)"
   ]
  },
  {
   "cell_type": "code",
   "execution_count": 70,
   "metadata": {
    "collapsed": false
   },
   "outputs": [
    {
     "data": {
      "text/plain": [
       "0.3921686746987952"
      ]
     },
     "execution_count": 70,
     "metadata": {},
     "output_type": "execute_result"
    }
   ],
   "source": [
    "yval[yval[:,0]==1].shape[0]/float(yval.shape[0])"
   ]
  },
  {
   "cell_type": "code",
   "execution_count": null,
   "metadata": {
    "collapsed": true
   },
   "outputs": [],
   "source": []
  }
 ],
 "metadata": {
  "kernelspec": {
   "display_name": "Python 2",
   "language": "python",
   "name": "python2"
  },
  "language_info": {
   "codemirror_mode": {
    "name": "ipython",
    "version": 2
   },
   "file_extension": ".py",
   "mimetype": "text/x-python",
   "name": "python",
   "nbconvert_exporter": "python",
   "pygments_lexer": "ipython2",
   "version": "2.7.12"
  }
 },
 "nbformat": 4,
 "nbformat_minor": 1
}
